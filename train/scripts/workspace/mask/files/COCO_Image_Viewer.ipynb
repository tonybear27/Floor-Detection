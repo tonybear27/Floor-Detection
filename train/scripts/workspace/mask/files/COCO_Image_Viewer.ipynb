{
 "cells": [
  {
   "cell_type": "markdown",
   "source": [
    "# COCO Image Viewer\n",
    "This notebook will allow you to view details about a COCO dataset and preview segmentations on annotated images.\n",
    "Learn more about it at: http://cocodataset.org/"
   ],
   "metadata": {}
  },
  {
   "cell_type": "code",
   "execution_count": 1,
   "source": [
    "import IPython\n",
    "import os\n",
    "import json\n",
    "import random\n",
    "import numpy as np\n",
    "import requests\n",
    "from io import BytesIO\n",
    "from math import trunc\n",
    "from PIL import Image as PILImage\n",
    "from PIL import ImageDraw as PILImageDraw"
   ],
   "outputs": [],
   "metadata": {
    "ExecuteTime": {
     "end_time": "2019-07-27T08:58:05.441736Z",
     "start_time": "2019-07-27T08:58:05.075740Z"
    }
   }
  },
  {
   "cell_type": "code",
   "execution_count": 2,
   "source": [
    "# Load the dataset json\n",
    "class CocoDataset():\n",
    "    def __init__(self, annotation_path, image_dir):\n",
    "        self.annotation_path = annotation_path\n",
    "        self.image_dir = image_dir\n",
    "        self.colors = ['blue', 'purple', 'red', 'green', 'orange', 'salmon', 'pink', 'gold',\n",
    "                       'orchid', 'slateblue', 'limegreen', 'seagreen', 'darkgreen', 'olive',\n",
    "                       'teal', 'aquamarine', 'steelblue', 'powderblue', 'dodgerblue', 'navy',\n",
    "                       'magenta', 'sienna', 'maroon']\n",
    "\n",
    "        json_file = open(self.annotation_path)\n",
    "        self.coco = json.load(json_file)\n",
    "        json_file.close()\n",
    "\n",
    "        self.process_info()\n",
    "        self.process_licenses()\n",
    "        self.process_categories()\n",
    "        self.process_images()\n",
    "        self.process_segmentations()\n",
    "\n",
    "    def display_info(self):\n",
    "        print('Dataset Info:')\n",
    "        print('=============')\n",
    "        if self.info is None:\n",
    "            return\n",
    "        for key, item in self.info.items():\n",
    "            print('  {}: {}'.format(key, item))\n",
    "\n",
    "        requirements = [['description', str],\n",
    "                        ['url', str],\n",
    "                        ['version', str],\n",
    "                        ['year', int],\n",
    "                        ['contributor', str],\n",
    "                        ['date_created', str]]\n",
    "        for req, req_type in requirements:\n",
    "            if req not in self.info:\n",
    "                print('ERROR: {} is missing'.format(req))\n",
    "            elif type(self.info[req]) != req_type:\n",
    "                print('ERROR: {} should be type {}'.format(req, str(req_type)))\n",
    "        print('')\n",
    "\n",
    "    def display_licenses(self):\n",
    "        print('Licenses:')\n",
    "        print('=========')\n",
    "\n",
    "        if self.licenses is None:\n",
    "            return\n",
    "        requirements = [['id', int],\n",
    "                        ['url', str],\n",
    "                        ['name', str]]\n",
    "        for license in self.licenses:\n",
    "            for key, item in license.items():\n",
    "                print('  {}: {}'.format(key, item))\n",
    "            for req, req_type in requirements:\n",
    "                if req not in license:\n",
    "                    print('ERROR: {} is missing'.format(req))\n",
    "                elif type(license[req]) != req_type:\n",
    "                    print('ERROR: {} should be type {}'.format(\n",
    "                        req, str(req_type)))\n",
    "            print('')\n",
    "        print('')\n",
    "\n",
    "    def display_categories(self):\n",
    "        print('Categories:')\n",
    "        print('=========')\n",
    "        for sc_key, sc_val in self.super_categories.items():\n",
    "            print('  super_category: {}'.format(sc_key))\n",
    "            for cat_id in sc_val:\n",
    "                print('    id {}: {}'.format(\n",
    "                    cat_id, self.categories[cat_id]['name']))\n",
    "            print('')\n",
    "\n",
    "    def display_image(self, image_id, show_polys=True, show_bbox=True, show_crowds=True, use_url=False):\n",
    "        print('Image:')\n",
    "        print('======')\n",
    "        if image_id == 'random':\n",
    "            image_id = random.choice(list(self.images.keys()))\n",
    "\n",
    "        # Print the image info\n",
    "        image = self.images[image_id]\n",
    "        for key, val in image.items():\n",
    "            print('  {}: {}'.format(key, val))\n",
    "\n",
    "        # Open the image\n",
    "        if use_url:\n",
    "            image_path = image['coco_url']\n",
    "            response = requests.get(image_path)\n",
    "            image = PILImage.open(BytesIO(response.content))\n",
    "\n",
    "        else:\n",
    "            # image_path = os.path.join(self.image_dir, image['file_name'])\n",
    "            image_path = \"{}/{}\".format(self.image_dir, image['file_name'])\n",
    "            image = PILImage.open(image_path)\n",
    "\n",
    "        # Calculate the size and adjusted display size\n",
    "        max_width = 600\n",
    "        image_width, image_height = image.size\n",
    "        adjusted_width = min(image_width, max_width)\n",
    "        adjusted_ratio = adjusted_width / image_width\n",
    "        adjusted_height = adjusted_ratio * image_height\n",
    "\n",
    "        # Create list of polygons to be drawn\n",
    "        polygons = {}\n",
    "        bbox_polygons = {}\n",
    "        rle_regions = {}\n",
    "        poly_colors = {}\n",
    "        bbox_categories = {}\n",
    "        print('  segmentations ({}):'.format(\n",
    "            len(self.segmentations[image_id])))\n",
    "        for i, segm in enumerate(self.segmentations[image_id]):\n",
    "            polygons_list = []\n",
    "            if segm['iscrowd'] != 0:\n",
    "                # Gotta decode the RLE\n",
    "                px = 0\n",
    "                x, y = 0, 0\n",
    "                rle_list = []\n",
    "                for j, counts in enumerate(segm['segmentation']['counts']):\n",
    "                    if j % 2 == 0:\n",
    "                        # Empty pixels\n",
    "                        px += counts\n",
    "                    else:\n",
    "                        # Need to draw on these pixels, since we are drawing in vector form,\n",
    "                        # we need to draw horizontal lines on the image\n",
    "                        x_start = trunc(\n",
    "                            trunc(px / image_height) * adjusted_ratio)\n",
    "                        y_start = trunc(px % image_height * adjusted_ratio)\n",
    "                        px += counts\n",
    "                        x_end = trunc(trunc(px / image_height)\n",
    "                                      * adjusted_ratio)\n",
    "                        y_end = trunc(px % image_height * adjusted_ratio)\n",
    "                        if x_end == x_start:\n",
    "                            # This is only on one line\n",
    "                            rle_list.append(\n",
    "                                {'x': x_start, 'y': y_start, 'width': 1, 'height': (y_end - y_start)})\n",
    "                        if x_end > x_start:\n",
    "                            # This spans more than one line\n",
    "                            # Insert top line first\n",
    "                            rle_list.append(\n",
    "                                {'x': x_start, 'y': y_start, 'width': 1, 'height': (image_height - y_start)})\n",
    "\n",
    "                            # Insert middle lines if needed\n",
    "                            lines_spanned = x_end - x_start + 1  # total number of lines spanned\n",
    "                            full_lines_to_insert = lines_spanned - 2\n",
    "                            if full_lines_to_insert > 0:\n",
    "                                full_lines_to_insert = trunc(\n",
    "                                    full_lines_to_insert * adjusted_ratio)\n",
    "                                rle_list.append(\n",
    "                                    {'x': (x_start + 1), 'y': 0, 'width': full_lines_to_insert, 'height': image_height})\n",
    "\n",
    "                            # Insert bottom line\n",
    "                            rle_list.append(\n",
    "                                {'x': x_end, 'y': 0, 'width': 1, 'height': y_end})\n",
    "                if len(rle_list) > 0:\n",
    "                    rle_regions[segm['id']] = rle_list\n",
    "            else:\n",
    "                # Add the polygon segmentation\n",
    "                for segmentation_points in segm['segmentation']:\n",
    "                    segmentation_points = np.multiply(\n",
    "                        segmentation_points, adjusted_ratio).astype(int)\n",
    "                    polygons_list.append(\n",
    "                        str(segmentation_points).lstrip('[').rstrip(']'))\n",
    "            polygons[segm['id']] = polygons_list\n",
    "            if i < len(self.colors):\n",
    "                poly_colors[segm['id']] = self.colors[i]\n",
    "            else:\n",
    "                poly_colors[segm['id']] = 'white'\n",
    "\n",
    "            bbox = segm['bbox']\n",
    "            bbox_points = [bbox[0], bbox[1], bbox[0] + bbox[2], bbox[1],\n",
    "                           bbox[0] + bbox[2], bbox[1] +\n",
    "                           bbox[3], bbox[0], bbox[1] + bbox[3],\n",
    "                           bbox[0], bbox[1]]\n",
    "            bbox_points = np.multiply(bbox_points, adjusted_ratio).astype(int)\n",
    "            bbox_polygons[segm['id']] = str(\n",
    "                bbox_points).lstrip('[').rstrip(']')\n",
    "            bbox_categories[segm['id']] = self.categories[segm['category_id']]\n",
    "            # Print details\n",
    "            print('    {}:{}:{}'.format(\n",
    "                segm['id'], poly_colors[segm['id']], self.categories[segm['category_id']]))\n",
    "\n",
    "        # Draw segmentation polygons on image\n",
    "        html = '<div class=\"container\" style=\"position:relative;\">'\n",
    "        html += '<img src=\"{}\" style=\"position:relative;top:0px;left:0px;width:{}px;\">'.format(\n",
    "            image_path, adjusted_width)\n",
    "        html += '<div class=\"svgclass\"><svg width=\"{}\" height=\"{}\">'.format(\n",
    "            adjusted_width, adjusted_height)\n",
    "\n",
    "        if show_polys:\n",
    "            for seg_id, points_list in polygons.items():\n",
    "                fill_color = poly_colors[seg_id]\n",
    "                stroke_color = poly_colors[seg_id]\n",
    "                for points in points_list:\n",
    "                    html += '<polygon points=\"{}\" style=\"fill:{}; stroke:{}; stroke-width:1; fill-opacity:0.5\" />'.format(\n",
    "                        points, fill_color, stroke_color)\n",
    "\n",
    "        if show_crowds:\n",
    "            for seg_id, rect_list in rle_regions.items():\n",
    "                fill_color = poly_colors[seg_id]\n",
    "                stroke_color = poly_colors[seg_id]\n",
    "                for rect_def in rect_list:\n",
    "                    x, y = rect_def['x'], rect_def['y']\n",
    "                    w, h = rect_def['width'], rect_def['height']\n",
    "                    html += '<rect x=\"{}\" y=\"{}\" width=\"{}\" height=\"{}\" style=\"fill:{}; stroke:{}; stroke-width:1; fill-opacity:0.5; stroke-opacity:0.5\" />'.format(\n",
    "                        x, y, w, h, fill_color, stroke_color)\n",
    "\n",
    "        if show_bbox:\n",
    "            for seg_id, points in bbox_polygons.items():\n",
    "                x, y = [int(i) for i in points.split()[:2]]\n",
    "                html += '<text x=\"{}\" y=\"{}\" fill=\"yellow\">{}</text>'.format(\n",
    "                    x, y, bbox_categories[seg_id][\"name\"])\n",
    "                fill_color = poly_colors[seg_id]\n",
    "                stroke_color = poly_colors[seg_id]\n",
    "                html += '<polygon points=\"{}\" style=\"fill:{}; stroke:{}; stroke-width:1; fill-opacity:0\" />'.format(\n",
    "                    points, fill_color, stroke_color)\n",
    "\n",
    "        html += '</svg></div>'\n",
    "        html += '</div>'\n",
    "        html += '<style>'\n",
    "        html += '.svgclass { position:absolute; top:0px; left:0px;}'\n",
    "        html += '</style>'\n",
    "        return html\n",
    "\n",
    "    def process_info(self):\n",
    "        self.info = self.coco.get('info')\n",
    "\n",
    "    def process_licenses(self):\n",
    "        self.licenses = self.coco.get('licenses')\n",
    "\n",
    "    def process_categories(self):\n",
    "        self.categories = {}\n",
    "        self.super_categories = {}\n",
    "        for category in self.coco['categories']:\n",
    "            cat_id = category['id']\n",
    "            super_category = category['supercategory']\n",
    "\n",
    "            # Add category to the categories dict\n",
    "            if cat_id not in self.categories:\n",
    "                self.categories[cat_id] = category\n",
    "            else:\n",
    "                print(\"ERROR: Skipping duplicate category id: {}\".format(category))\n",
    "\n",
    "            # Add category to super_categories dict\n",
    "            if super_category not in self.super_categories:\n",
    "                # Create a new set with the category id\n",
    "                self.super_categories[super_category] = {cat_id}\n",
    "            else:\n",
    "                self.super_categories[super_category] |= {\n",
    "                    cat_id}  # Add category id to the set\n",
    "\n",
    "    def process_images(self):\n",
    "        self.images = {}\n",
    "        for image in self.coco['images']:\n",
    "            image_id = image['id']\n",
    "            if image_id in self.images:\n",
    "                print(\"ERROR: Skipping duplicate image id: {}\".format(image))\n",
    "            else:\n",
    "                self.images[image_id] = image\n",
    "\n",
    "    def process_segmentations(self):\n",
    "        self.segmentations = {}\n",
    "        for segmentation in self.coco['annotations']:\n",
    "            image_id = segmentation['image_id']\n",
    "            if image_id not in self.segmentations:\n",
    "                self.segmentations[image_id] = []\n",
    "            self.segmentations[image_id].append(segmentation)"
   ],
   "outputs": [],
   "metadata": {
    "ExecuteTime": {
     "end_time": "2019-07-27T08:58:05.486614Z",
     "start_time": "2019-07-27T08:58:05.443733Z"
    }
   }
  },
  {
   "cell_type": "code",
   "execution_count": 3,
   "source": [
    "annotation_path = \"images/train.json\"\n",
    "image_dir = \"images/train\"\n",
    "\n",
    "coco_dataset = CocoDataset(annotation_path, image_dir)\n",
    "coco_dataset.display_info()\n",
    "coco_dataset.display_licenses()\n",
    "coco_dataset.display_categories()"
   ],
   "outputs": [
    {
     "output_type": "stream",
     "name": "stdout",
     "text": [
      "Dataset Info:\n",
      "=============\n",
      "Licenses:\n",
      "=========\n",
      "Categories:\n",
      "=========\n",
      "  super_category: Abyssinian\n",
      "    id 0: Abyssinian\n",
      "\n"
     ]
    }
   ],
   "metadata": {
    "ExecuteTime": {
     "end_time": "2019-07-27T08:58:05.510585Z",
     "start_time": "2019-07-27T08:58:05.489608Z"
    }
   }
  },
  {
   "cell_type": "code",
   "execution_count": 4,
   "source": [
    "for k, v in coco_dataset.images.items():\n",
    "    print(k, v)"
   ],
   "outputs": [
    {
     "output_type": "stream",
     "name": "stdout",
     "text": [
      "0 {'height': 500, 'width': 414, 'id': 0, 'file_name': 'Abyssinian_6.jpg'}\n",
      "1 {'height': 352, 'width': 400, 'id': 1, 'file_name': 'Abyssinian_19.jpg'}\n",
      "2 {'height': 422, 'width': 477, 'id': 2, 'file_name': 'Abyssinian_15.jpg'}\n",
      "3 {'height': 500, 'width': 335, 'id': 3, 'file_name': 'Abyssinian_14.jpg'}\n",
      "4 {'height': 500, 'width': 335, 'id': 4, 'file_name': 'Abyssinian_18.jpg'}\n",
      "5 {'height': 266, 'width': 250, 'id': 5, 'file_name': 'Abyssinian_7.jpg'}\n",
      "6 {'height': 280, 'width': 245, 'id': 6, 'file_name': 'Abyssinian_13.jpg'}\n",
      "7 {'height': 400, 'width': 600, 'id': 7, 'file_name': 'Abyssinian_1.jpg'}\n",
      "8 {'height': 288, 'width': 192, 'id': 8, 'file_name': 'Abyssinian_11.jpg'}\n",
      "9 {'height': 473, 'width': 600, 'id': 9, 'file_name': 'Abyssinian_2.jpg'}\n",
      "10 {'height': 869, 'width': 600, 'id': 10, 'file_name': 'Abyssinian_3.jpg'}\n",
      "11 {'height': 500, 'width': 375, 'id': 11, 'file_name': 'Abyssinian_10.jpg'}\n",
      "12 {'height': 375, 'width': 500, 'id': 12, 'file_name': 'Abyssinian_21.jpg'}\n",
      "13 {'height': 411, 'width': 275, 'id': 13, 'file_name': 'Abyssinian_17.jpg'}\n",
      "14 {'height': 385, 'width': 450, 'id': 14, 'file_name': 'Abyssinian_9.jpg'}\n"
     ]
    }
   ],
   "metadata": {}
  },
  {
   "cell_type": "code",
   "execution_count": 5,
   "source": [
    "html = coco_dataset.display_image(1, use_url=False)\n",
    "IPython.display.HTML(html)"
   ],
   "outputs": [
    {
     "output_type": "stream",
     "name": "stdout",
     "text": [
      "Image:\n",
      "======\n",
      "  height: 352\n",
      "  width: 400\n",
      "  id: 1\n",
      "  file_name: Abyssinian_19.jpg\n",
      "  segmentations (1):\n",
      "    2:blue:{'supercategory': 'Abyssinian', 'id': 0, 'name': 'Abyssinian'}\n"
     ]
    },
    {
     "output_type": "execute_result",
     "data": {
      "text/html": [
       "<div class=\"container\" style=\"position:relative;\"><img src=\"images/train/Abyssinian_19.jpg\" style=\"position:relative;top:0px;left:0px;width:400px;\"><div class=\"svgclass\"><svg width=\"400\" height=\"352.0\"><polygon points=\" 90  14  95  30  99  35 107  36 122  19 134  13 135  23 136  44 132  56\n",
       " 133  70 129  87 123 108 126 120 130 127 134 131 172 140 203 154 226 182\n",
       " 240 217 256 257 256 283 268 299 294 305 324 306 371 301 367 289 398 301\n",
       " 397 321 355 324 288 325 250 327 236 336 196 332 147 332 132 320 125 307\n",
       " 128 297 128 280 110 261  96 255  84 278  76 304  68 317  52 320  36 335\n",
       "   8 333   7 318  30 309  55 242  54 222  42 188  37 167  41 141  53 110\n",
       "  60  90  47  77  42  61  41  53  48  48  58  43  66  35  87  33\" style=\"fill:blue; stroke:blue; stroke-width:1; fill-opacity:0.5\" /><text x=\"7\" y=\"13\" fill=\"yellow\">Abyssinian</text><polygon points=\"  7  13 398  13 398 336   7 336   7  13\" style=\"fill:blue; stroke:blue; stroke-width:1; fill-opacity:0\" /></svg></div></div><style>.svgclass { position:absolute; top:0px; left:0px;}</style>"
      ],
      "text/plain": [
       "<IPython.core.display.HTML object>"
      ]
     },
     "metadata": {},
     "execution_count": 5
    }
   ],
   "metadata": {}
  },
  {
   "cell_type": "code",
   "execution_count": 6,
   "source": [
    "html = coco_dataset.display_image(2, use_url=False)\n",
    "IPython.display.HTML(html)"
   ],
   "outputs": [
    {
     "output_type": "stream",
     "name": "stdout",
     "text": [
      "Image:\n",
      "======\n",
      "  height: 422\n",
      "  width: 477\n",
      "  id: 2\n",
      "  file_name: Abyssinian_15.jpg\n",
      "  segmentations (1):\n",
      "    3:blue:{'supercategory': 'Abyssinian', 'id': 0, 'name': 'Abyssinian'}\n"
     ]
    },
    {
     "output_type": "execute_result",
     "data": {
      "text/html": [
       "<div class=\"container\" style=\"position:relative;\"><img src=\"images/train/Abyssinian_15.jpg\" style=\"position:relative;top:0px;left:0px;width:477px;\"><div class=\"svgclass\"><svg width=\"477\" height=\"422.0\"><polygon points=\" 16  29  16  75  31 129  46 174  66 197  76 222  85 258  94 275 103 297\n",
       "  80 329  70 352  64 385  65 405  72 417  77 420 375 420 372 374 339 308\n",
       " 372 200 394 164 426  79 436  29 431  17 400  20 362  39 293 103 237  89\n",
       " 169  99  96  40  52  18  28  14\" style=\"fill:blue; stroke:blue; stroke-width:1; fill-opacity:0.5\" /><text x=\"16\" y=\"14\" fill=\"yellow\">Abyssinian</text><polygon points=\" 16  14 436  14 436 420  16 420  16  14\" style=\"fill:blue; stroke:blue; stroke-width:1; fill-opacity:0\" /></svg></div></div><style>.svgclass { position:absolute; top:0px; left:0px;}</style>"
      ],
      "text/plain": [
       "<IPython.core.display.HTML object>"
      ]
     },
     "metadata": {},
     "execution_count": 6
    }
   ],
   "metadata": {}
  },
  {
   "cell_type": "code",
   "execution_count": 7,
   "source": [
    "annotation_path = \"images/val.json\"\n",
    "image_dir = \"images/val\"\n",
    "\n",
    "coco_dataset = CocoDataset(annotation_path, image_dir)\n",
    "coco_dataset.display_info()\n",
    "coco_dataset.display_licenses()\n",
    "coco_dataset.display_categories()"
   ],
   "outputs": [
    {
     "output_type": "stream",
     "name": "stdout",
     "text": [
      "Dataset Info:\n",
      "=============\n",
      "Licenses:\n",
      "=========\n",
      "Categories:\n",
      "=========\n",
      "  super_category: Abyssinian\n",
      "    id 0: Abyssinian\n",
      "\n"
     ]
    }
   ],
   "metadata": {}
  },
  {
   "cell_type": "code",
   "execution_count": 8,
   "source": [
    "for k, v in coco_dataset.images.items():\n",
    "    print(k, v)"
   ],
   "outputs": [
    {
     "output_type": "stream",
     "name": "stdout",
     "text": [
      "0 {'height': 373, 'width': 500, 'id': 0, 'file_name': 'Abyssinian_22.jpg'}\n",
      "1 {'height': 1600, 'width': 1200, 'id': 1, 'file_name': 'Abyssinian_29.jpg'}\n",
      "2 {'height': 600, 'width': 800, 'id': 2, 'file_name': 'Abyssinian_24.jpg'}\n",
      "3 {'height': 286, 'width': 400, 'id': 3, 'file_name': 'Abyssinian_27.jpg'}\n",
      "4 {'height': 369, 'width': 500, 'id': 4, 'file_name': 'Abyssinian_26.jpg'}\n"
     ]
    }
   ],
   "metadata": {}
  },
  {
   "cell_type": "code",
   "execution_count": 9,
   "source": [
    "html = coco_dataset.display_image(1, use_url=False)\n",
    "IPython.display.HTML(html)    "
   ],
   "outputs": [
    {
     "output_type": "stream",
     "name": "stdout",
     "text": [
      "Image:\n",
      "======\n",
      "  height: 1600\n",
      "  width: 1200\n",
      "  id: 1\n",
      "  file_name: Abyssinian_29.jpg\n",
      "  segmentations (1):\n",
      "    2:blue:{'supercategory': 'Abyssinian', 'id': 0, 'name': 'Abyssinian'}\n"
     ]
    },
    {
     "output_type": "execute_result",
     "data": {
      "text/html": [
       "<div class=\"container\" style=\"position:relative;\"><img src=\"images/val/Abyssinian_29.jpg\" style=\"position:relative;top:0px;left:0px;width:600px;\"><div class=\"svgclass\"><svg width=\"600\" height=\"800.0\"><polygon points=\"143 116 167 159 176 178 190 198 193 220 206 252 226 266 227 287 220 321\n",
       " 220 344 234 395 239 446 257 534 253 544 239 549 230 556 289 557 300 555\n",
       " 298 517 317 532 310 555 366 555 384 566 431 570 480 571 519 574 568 574\n",
       " 552 560 494 521 479 473 433 412 380 329 358 306 329 234 326 187 323 136\n",
       " 310 117 281  84 259  84 244 134 215 133 193 128 167 118\" style=\"fill:blue; stroke:blue; stroke-width:1; fill-opacity:0.5\" /><text x=\"143\" y=\"84\" fill=\"yellow\">Abyssinian</text><polygon points=\"143  84 568  84 568 574 143 574 143  84\" style=\"fill:blue; stroke:blue; stroke-width:1; fill-opacity:0\" /></svg></div></div><style>.svgclass { position:absolute; top:0px; left:0px;}</style>"
      ],
      "text/plain": [
       "<IPython.core.display.HTML object>"
      ]
     },
     "metadata": {},
     "execution_count": 9
    }
   ],
   "metadata": {}
  },
  {
   "cell_type": "code",
   "execution_count": 10,
   "source": [
    "\n",
    "html = coco_dataset.display_image(2, use_url=False)\n",
    "IPython.display.HTML(html)"
   ],
   "outputs": [
    {
     "output_type": "stream",
     "name": "stdout",
     "text": [
      "Image:\n",
      "======\n",
      "  height: 600\n",
      "  width: 800\n",
      "  id: 2\n",
      "  file_name: Abyssinian_24.jpg\n",
      "  segmentations (1):\n",
      "    3:blue:{'supercategory': 'Abyssinian', 'id': 0, 'name': 'Abyssinian'}\n"
     ]
    },
    {
     "output_type": "execute_result",
     "data": {
      "text/html": [
       "<div class=\"container\" style=\"position:relative;\"><img src=\"images/val/Abyssinian_24.jpg\" style=\"position:relative;top:0px;left:0px;width:600px;\"><div class=\"svgclass\"><svg width=\"600\" height=\"450.0\"><polygon points=\"303  39 332  62 350  80 366  80 385  74 417  74 447  20 463  14 474  25\n",
       " 481  37 484  72 482  99 474 119 466 143 464 156 461 176 459 189 461 218\n",
       " 466 238 479 262 480 293 474 346 470 385 458 423 448 446 378 449 265 448\n",
       " 180 448 186 379 209 317 239 285 298 257 329 240 342 188 324 154 299 111\n",
       " 280  71 285  44\" style=\"fill:blue; stroke:blue; stroke-width:1; fill-opacity:0.5\" /><text x=\"180\" y=\"14\" fill=\"yellow\">Abyssinian</text><polygon points=\"180  14 483  14 483 449 180 449 180  14\" style=\"fill:blue; stroke:blue; stroke-width:1; fill-opacity:0\" /></svg></div></div><style>.svgclass { position:absolute; top:0px; left:0px;}</style>"
      ],
      "text/plain": [
       "<IPython.core.display.HTML object>"
      ]
     },
     "metadata": {},
     "execution_count": 10
    }
   ],
   "metadata": {}
  }
 ],
 "metadata": {
  "kernelspec": {
   "name": "python3",
   "display_name": "Python 3.8.5 64-bit ('od': conda)"
  },
  "language_info": {
   "codemirror_mode": {
    "name": "ipython",
    "version": 3
   },
   "file_extension": ".py",
   "mimetype": "text/x-python",
   "name": "python",
   "nbconvert_exporter": "python",
   "pygments_lexer": "ipython3",
   "version": "3.8.5"
  },
  "toc": {
   "base_numbering": 1,
   "nav_menu": {},
   "number_sections": true,
   "sideBar": true,
   "skip_h1_title": false,
   "title_cell": "Table of Contents",
   "title_sidebar": "Contents",
   "toc_cell": false,
   "toc_position": {},
   "toc_section_display": true,
   "toc_window_display": false
  },
  "interpreter": {
   "hash": "935322b96bab7681b41fc0504c602a1b15d6e0a2204c54d445b6b4d3b9ce7bbe"
  }
 },
 "nbformat": 4,
 "nbformat_minor": 2
}